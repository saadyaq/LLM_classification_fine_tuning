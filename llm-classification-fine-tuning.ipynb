{
 "cells": [
  {
   "cell_type": "code",
   "execution_count": 1,
   "id": "2ff103d7",
   "metadata": {
    "execution": {
     "iopub.execute_input": "2025-08-26T22:38:04.234231Z",
     "iopub.status.busy": "2025-08-26T22:38:04.233913Z",
     "iopub.status.idle": "2025-08-26T22:38:07.514700Z",
     "shell.execute_reply": "2025-08-26T22:38:07.514105Z"
    },
    "papermill": {
     "duration": 3.286505,
     "end_time": "2025-08-26T22:38:07.516171",
     "exception": false,
     "start_time": "2025-08-26T22:38:04.229666",
     "status": "completed"
    },
    "tags": []
   },
   "outputs": [],
   "source": [
    "import numpy as np\n",
    "import pandas as pd\n",
    "import seaborn as sns\n",
    "import matplotlib.pyplot as plt"
   ]
  },
  {
   "cell_type": "code",
   "execution_count": 2,
   "id": "a06ce5d0",
   "metadata": {
    "_cell_guid": "b1076dfc-b9ad-4769-8c92-a6c4dae69d19",
    "_uuid": "8f2839f25d086af736a60e9eeb907d3b93b6e0e5",
    "execution": {
     "iopub.execute_input": "2025-08-26T22:38:07.522723Z",
     "iopub.status.busy": "2025-08-26T22:38:07.522083Z",
     "iopub.status.idle": "2025-08-26T22:38:07.529619Z",
     "shell.execute_reply": "2025-08-26T22:38:07.528869Z"
    },
    "papermill": {
     "duration": 0.011441,
     "end_time": "2025-08-26T22:38:07.530619",
     "exception": false,
     "start_time": "2025-08-26T22:38:07.519178",
     "status": "completed"
    },
    "tags": []
   },
   "outputs": [
    {
     "name": "stdout",
     "output_type": "stream",
     "text": [
      "/kaggle/input/llm-classification-finetuning/sample_submission.csv\n",
      "/kaggle/input/llm-classification-finetuning/train.csv\n",
      "/kaggle/input/llm-classification-finetuning/test.csv\n"
     ]
    }
   ],
   "source": [
    "# This Python 3 environment comes with many helpful analytics libraries installed\n",
    "# It is defined by the kaggle/python Docker image: https://github.com/kaggle/docker-python\n",
    "# For example, here's several helpful packages to load\n",
    "\n",
    "# Input data files are available in the read-only \"../input/\" directory\n",
    "# For example, running this (by clicking run or pressing Shift+Enter) will list all files under the input directory\n",
    "\n",
    "import os\n",
    "for dirname, _, filenames in os.walk('/kaggle/input'):\n",
    "    for filename in filenames:\n",
    "        print(os.path.join(dirname, filename))\n",
    "\n",
    "# You can write up to 20GB to the current directory (/kaggle/working/) that gets preserved as output when you create a version using \"Save & Run All\" \n",
    "# You can also write temporary files to /kaggle/temp/, but they won't be saved outside of the current session"
   ]
  },
  {
   "cell_type": "code",
   "execution_count": 3,
   "id": "d0b63e82",
   "metadata": {
    "execution": {
     "iopub.execute_input": "2025-08-26T22:38:07.536232Z",
     "iopub.status.busy": "2025-08-26T22:38:07.536017Z",
     "iopub.status.idle": "2025-08-26T22:38:10.937082Z",
     "shell.execute_reply": "2025-08-26T22:38:10.936244Z"
    },
    "papermill": {
     "duration": 3.405184,
     "end_time": "2025-08-26T22:38:10.938383",
     "exception": false,
     "start_time": "2025-08-26T22:38:07.533199",
     "status": "completed"
    },
    "tags": []
   },
   "outputs": [
    {
     "data": {
      "text/html": [
       "<div>\n",
       "<style scoped>\n",
       "    .dataframe tbody tr th:only-of-type {\n",
       "        vertical-align: middle;\n",
       "    }\n",
       "\n",
       "    .dataframe tbody tr th {\n",
       "        vertical-align: top;\n",
       "    }\n",
       "\n",
       "    .dataframe thead th {\n",
       "        text-align: right;\n",
       "    }\n",
       "</style>\n",
       "<table border=\"1\" class=\"dataframe\">\n",
       "  <thead>\n",
       "    <tr style=\"text-align: right;\">\n",
       "      <th></th>\n",
       "      <th>id</th>\n",
       "      <th>model_a</th>\n",
       "      <th>model_b</th>\n",
       "      <th>prompt</th>\n",
       "      <th>response_a</th>\n",
       "      <th>response_b</th>\n",
       "      <th>winner_model_a</th>\n",
       "      <th>winner_model_b</th>\n",
       "      <th>winner_tie</th>\n",
       "    </tr>\n",
       "  </thead>\n",
       "  <tbody>\n",
       "    <tr>\n",
       "      <th>0</th>\n",
       "      <td>30192</td>\n",
       "      <td>gpt-4-1106-preview</td>\n",
       "      <td>gpt-4-0613</td>\n",
       "      <td>[\"Is it morally right to try to have a certain...</td>\n",
       "      <td>[\"The question of whether it is morally right ...</td>\n",
       "      <td>[\"As an AI, I don't have personal beliefs or o...</td>\n",
       "      <td>1</td>\n",
       "      <td>0</td>\n",
       "      <td>0</td>\n",
       "    </tr>\n",
       "    <tr>\n",
       "      <th>1</th>\n",
       "      <td>53567</td>\n",
       "      <td>koala-13b</td>\n",
       "      <td>gpt-4-0613</td>\n",
       "      <td>[\"What is the difference between marriage lice...</td>\n",
       "      <td>[\"A marriage license is a legal document that ...</td>\n",
       "      <td>[\"A marriage license and a marriage certificat...</td>\n",
       "      <td>0</td>\n",
       "      <td>1</td>\n",
       "      <td>0</td>\n",
       "    </tr>\n",
       "    <tr>\n",
       "      <th>2</th>\n",
       "      <td>65089</td>\n",
       "      <td>gpt-3.5-turbo-0613</td>\n",
       "      <td>mistral-medium</td>\n",
       "      <td>[\"explain function calling. how would you call...</td>\n",
       "      <td>[\"Function calling is the process of invoking ...</td>\n",
       "      <td>[\"Function calling is the process of invoking ...</td>\n",
       "      <td>0</td>\n",
       "      <td>0</td>\n",
       "      <td>1</td>\n",
       "    </tr>\n",
       "    <tr>\n",
       "      <th>3</th>\n",
       "      <td>96401</td>\n",
       "      <td>llama-2-13b-chat</td>\n",
       "      <td>mistral-7b-instruct</td>\n",
       "      <td>[\"How can I create a test set for a very rare ...</td>\n",
       "      <td>[\"Creating a test set for a very rare category...</td>\n",
       "      <td>[\"When building a classifier for a very rare c...</td>\n",
       "      <td>1</td>\n",
       "      <td>0</td>\n",
       "      <td>0</td>\n",
       "    </tr>\n",
       "    <tr>\n",
       "      <th>4</th>\n",
       "      <td>198779</td>\n",
       "      <td>koala-13b</td>\n",
       "      <td>gpt-3.5-turbo-0314</td>\n",
       "      <td>[\"What is the best way to travel from Tel-Aviv...</td>\n",
       "      <td>[\"The best way to travel from Tel Aviv to Jeru...</td>\n",
       "      <td>[\"The best way to travel from Tel-Aviv to Jeru...</td>\n",
       "      <td>0</td>\n",
       "      <td>1</td>\n",
       "      <td>0</td>\n",
       "    </tr>\n",
       "  </tbody>\n",
       "</table>\n",
       "</div>"
      ],
      "text/plain": [
       "       id             model_a              model_b  \\\n",
       "0   30192  gpt-4-1106-preview           gpt-4-0613   \n",
       "1   53567           koala-13b           gpt-4-0613   \n",
       "2   65089  gpt-3.5-turbo-0613       mistral-medium   \n",
       "3   96401    llama-2-13b-chat  mistral-7b-instruct   \n",
       "4  198779           koala-13b   gpt-3.5-turbo-0314   \n",
       "\n",
       "                                              prompt  \\\n",
       "0  [\"Is it morally right to try to have a certain...   \n",
       "1  [\"What is the difference between marriage lice...   \n",
       "2  [\"explain function calling. how would you call...   \n",
       "3  [\"How can I create a test set for a very rare ...   \n",
       "4  [\"What is the best way to travel from Tel-Aviv...   \n",
       "\n",
       "                                          response_a  \\\n",
       "0  [\"The question of whether it is morally right ...   \n",
       "1  [\"A marriage license is a legal document that ...   \n",
       "2  [\"Function calling is the process of invoking ...   \n",
       "3  [\"Creating a test set for a very rare category...   \n",
       "4  [\"The best way to travel from Tel Aviv to Jeru...   \n",
       "\n",
       "                                          response_b  winner_model_a  \\\n",
       "0  [\"As an AI, I don't have personal beliefs or o...               1   \n",
       "1  [\"A marriage license and a marriage certificat...               0   \n",
       "2  [\"Function calling is the process of invoking ...               0   \n",
       "3  [\"When building a classifier for a very rare c...               1   \n",
       "4  [\"The best way to travel from Tel-Aviv to Jeru...               0   \n",
       "\n",
       "   winner_model_b  winner_tie  \n",
       "0               0           0  \n",
       "1               1           0  \n",
       "2               0           1  \n",
       "3               0           0  \n",
       "4               1           0  "
      ]
     },
     "execution_count": 3,
     "metadata": {},
     "output_type": "execute_result"
    }
   ],
   "source": [
    "train_df=pd.read_csv('/kaggle/input/llm-classification-finetuning/train.csv')\n",
    "train_df.head()"
   ]
  },
  {
   "cell_type": "code",
   "execution_count": 4,
   "id": "6cdc0cab",
   "metadata": {
    "execution": {
     "iopub.execute_input": "2025-08-26T22:38:10.945372Z",
     "iopub.status.busy": "2025-08-26T22:38:10.944833Z",
     "iopub.status.idle": "2025-08-26T22:38:10.997572Z",
     "shell.execute_reply": "2025-08-26T22:38:10.996451Z"
    },
    "papermill": {
     "duration": 0.057292,
     "end_time": "2025-08-26T22:38:10.998856",
     "exception": false,
     "start_time": "2025-08-26T22:38:10.941564",
     "status": "completed"
    },
    "tags": []
   },
   "outputs": [
    {
     "name": "stdout",
     "output_type": "stream",
     "text": [
      "<class 'pandas.core.frame.DataFrame'>\n",
      "RangeIndex: 57477 entries, 0 to 57476\n",
      "Data columns (total 9 columns):\n",
      " #   Column          Non-Null Count  Dtype \n",
      "---  ------          --------------  ----- \n",
      " 0   id              57477 non-null  int64 \n",
      " 1   model_a         57477 non-null  object\n",
      " 2   model_b         57477 non-null  object\n",
      " 3   prompt          57477 non-null  object\n",
      " 4   response_a      57477 non-null  object\n",
      " 5   response_b      57477 non-null  object\n",
      " 6   winner_model_a  57477 non-null  int64 \n",
      " 7   winner_model_b  57477 non-null  int64 \n",
      " 8   winner_tie      57477 non-null  int64 \n",
      "dtypes: int64(4), object(5)\n",
      "memory usage: 3.9+ MB\n",
      "None\n"
     ]
    }
   ],
   "source": [
    "print(train_df.info())"
   ]
  },
  {
   "cell_type": "code",
   "execution_count": 5,
   "id": "6a1d8b83",
   "metadata": {
    "execution": {
     "iopub.execute_input": "2025-08-26T22:38:11.005417Z",
     "iopub.status.busy": "2025-08-26T22:38:11.005190Z",
     "iopub.status.idle": "2025-08-26T22:38:11.012730Z",
     "shell.execute_reply": "2025-08-26T22:38:11.011950Z"
    },
    "papermill": {
     "duration": 0.012093,
     "end_time": "2025-08-26T22:38:11.013949",
     "exception": false,
     "start_time": "2025-08-26T22:38:11.001856",
     "status": "completed"
    },
    "tags": []
   },
   "outputs": [
    {
     "data": {
      "text/plain": [
       "winner_model_a\n",
       "0    37413\n",
       "1    20064\n",
       "Name: count, dtype: int64"
      ]
     },
     "execution_count": 5,
     "metadata": {},
     "output_type": "execute_result"
    }
   ],
   "source": [
    "train_df['winner_model_a'].value_counts()"
   ]
  },
  {
   "cell_type": "code",
   "execution_count": 6,
   "id": "7270a3fe",
   "metadata": {
    "execution": {
     "iopub.execute_input": "2025-08-26T22:38:11.020575Z",
     "iopub.status.busy": "2025-08-26T22:38:11.020327Z",
     "iopub.status.idle": "2025-08-26T22:38:11.026294Z",
     "shell.execute_reply": "2025-08-26T22:38:11.025545Z"
    },
    "papermill": {
     "duration": 0.010507,
     "end_time": "2025-08-26T22:38:11.027390",
     "exception": false,
     "start_time": "2025-08-26T22:38:11.016883",
     "status": "completed"
    },
    "tags": []
   },
   "outputs": [
    {
     "data": {
      "text/plain": [
       "winner_model_b\n",
       "0    37825\n",
       "1    19652\n",
       "Name: count, dtype: int64"
      ]
     },
     "execution_count": 6,
     "metadata": {},
     "output_type": "execute_result"
    }
   ],
   "source": [
    "train_df['winner_model_b'].value_counts()"
   ]
  },
  {
   "cell_type": "code",
   "execution_count": 7,
   "id": "34caf80d",
   "metadata": {
    "execution": {
     "iopub.execute_input": "2025-08-26T22:38:11.033665Z",
     "iopub.status.busy": "2025-08-26T22:38:11.033442Z",
     "iopub.status.idle": "2025-08-26T22:38:11.315225Z",
     "shell.execute_reply": "2025-08-26T22:38:11.314532Z"
    },
    "papermill": {
     "duration": 0.286061,
     "end_time": "2025-08-26T22:38:11.316249",
     "exception": false,
     "start_time": "2025-08-26T22:38:11.030188",
     "status": "completed"
    },
    "tags": []
   },
   "outputs": [
    {
     "data": {
      "text/plain": [
       "Text(0.5, 1.0, 'Répartition des types de données')"
      ]
     },
     "execution_count": 7,
     "metadata": {},
     "output_type": "execute_result"
    },
    {
     "data": {
      "image/png": "[encoded data removed]",
      "text/plain": [
       "<Figure size 640x480 with 1 Axes>"
      ]
     },
     "metadata": {},
     "output_type": "display_data"
    }
   ],
   "source": [
    "#Visualisations\n",
    "fig,axes=plt.subplots()\n",
    "data_types=train_df.dtypes.value_counts()\n",
    "colors=sns.color_palette('husl',len(data_types))\n",
    "axes.pie(data_types.values, labels=data_types.index, autopct='%1.1f%%', colors=colors)\n",
    "axes.set_title('Répartition des types de données')"
   ]
  },
  {
   "cell_type": "code",
   "execution_count": 8,
   "id": "892365a8",
   "metadata": {
    "execution": {
     "iopub.execute_input": "2025-08-26T22:38:11.323847Z",
     "iopub.status.busy": "2025-08-26T22:38:11.323608Z",
     "iopub.status.idle": "2025-08-26T22:38:11.328045Z",
     "shell.execute_reply": "2025-08-26T22:38:11.327425Z"
    },
    "papermill": {
     "duration": 0.009405,
     "end_time": "2025-08-26T22:38:11.329072",
     "exception": false,
     "start_time": "2025-08-26T22:38:11.319667",
     "status": "completed"
    },
    "tags": []
   },
   "outputs": [
    {
     "name": "stdout",
     "output_type": "stream",
     "text": [
      "Exemple de prompt: \n",
      "[\"Is it morally right to try to have a certain percentage of females on managerial positions?\",\"OK, does pineapple belong on a pizza? Relax and give me fun answer.\"]\n",
      "\n",
      "Exemple de response_a:\n",
      "[\"The question of whether it is morally right to aim for a certain percentage of females in managerial positions is a complex ethical issue that involves considerations of fairness, equality, diversity, and discrimination.\\n\\nHere are some arguments in favor of and against such policies:\\n\\n**Arguments in favor:**\\n\\n1. **Correcting Historical Inequities:** Women have historically been underrepresented in leadership roles due to various cultural, institutional, and social barriers. Aiming for a specific percentage can be seen as a corrective measure to address past and ongoing discrimination.\\n\\n2. **Promoting Diversity:** Diverse leadership teams can enhance decision-making and represent a broader range of perspectives. This can lead to better outcomes for organizations and society as a whole.\\n\\n3. **Equality of Opportunity:** Setting targets for female representation in management can help ensure that women have equal opportunities to advance in their careers.\\n\\n4. **Role Modeling:** Increased visibility of female leaders can inspire and encourage other women and girls to pursue leadership roles.\\n\\n**Arguments against:**\\n\\n1. **Reverse Discrimination:** Setting a quota for female representation might lead to the perception or reality of reverse discrimination, where men might be overlooked for positions despite being qualified, simply to meet the gender target.\\n\\n2. **Meritocracy Concerns:** Critics argue that employment and promotion should be based solely on merit and qualifications, not gender. They fear that quotas could compromise the quality of leadership if less qualified individuals are promoted to meet gender targets.\\n\\n3. **Tokenism:** There is a risk that women appointed to meet quotas might be seen as \\\"tokens,\\\" undermining their legitimacy and potentially leading to resentment among colleagues.\\n\\n4. **Oversimplification of Diversity:** Focusing only on gender might overlook other important aspects of diversity, such as race, ethnicity, socioeconomic background, or sexual orientation.\\n\\nUltimately, the morality of aiming for a certain percentage of females in managerial positions depends on one's ethical framework and the context in which such policies are implemented. Proponents of gender diversity targets often argue that these measures are necessary as a transitional mechanism to create a level playing field, while opponents may argue for a \\\"color-blind\\\" or \\\"gender-blind\\\" approach to hiring and promotions.\\n\\nOrganizations and societies must carefully consider the implications of these strategies and strive to implement policies that promote fairness and equality while minimizing negative consequences. It is also important to address the root causes of gender inequality, such as unconscious bias, work-life balance challenges, and lack of supportive policies, to create an environment where everyone has the opportunity to succeed based on their capabilities and contributions.\",\"Ah, the age-old culinary conundrum that has divided nations and dinner tables: does pineapple belong on a pizza? The tropical twist of pineapple on pizza, known as Hawaiian pizza, is a hotly debated topic where taste buds battle and pizza purists protest.\\n\\nLet's slice into the debate with a zest of fun:\\n\\n**Team Pineapple:** \\\"Absolutely, yes! Pineapple on pizza is like a beach party in your mouth. The sweet juiciness of pineapple chunks frolicking with savory ham or bacon creates a flavor wave that surfs across the cheesy ocean of deliciousness. It's the Mardi Gras of pizzas, where sweet meets savory in a jubilant jamboree!\\\"\\n\\n**Team No-Pineapple:** \\\"No way, not in a million pizzas! Pineapple is a fruit that should be sunbathing on a tropical fruit platter, not freeloading on a sacred slice of pizza. The thought of warm, melty cheese conspiring with pineapple's sugary mischief is enough to make Italian ancestors turn in their tomato patches. Keep the pineapple in the fruit salad where it belongs!\\\"\\n\\nAt the end of the day, whether pineapple belongs on pizza is a matter of personal taste. Some say it's a match made in heaven, others say it's a culinary crime. But let's face it, in the world of pizza toppings, where you can find everything from anchovies to zucchini, there's room for a little pineapple pizzazz. So, if your taste buds crave that sweet and tangy twist, go ahead and let your pineapple flag fly atop that glorious cheese-covered dough. Bon app\\u00e9tit, or as they say in pineapple paradise, \\\"Aloha-ppetite!\\\" \\ud83c\\udf4d\\ud83c\\udf55\"]\n"
     ]
    }
   ],
   "source": [
    "#Analyse des colonnes contextuelles \n",
    "print(\"Exemple de prompt: \")\n",
    "print(train_df['prompt'].iloc[0])\n",
    "print(\"\\nExemple de response_a:\")\n",
    "print(train_df['response_a'].iloc[0])"
   ]
  },
  {
   "cell_type": "code",
   "execution_count": 9,
   "id": "de6a7dcc",
   "metadata": {
    "execution": {
     "iopub.execute_input": "2025-08-26T22:38:11.336871Z",
     "iopub.status.busy": "2025-08-26T22:38:11.336197Z",
     "iopub.status.idle": "2025-08-26T22:38:11.348614Z",
     "shell.execute_reply": "2025-08-26T22:38:11.347739Z"
    },
    "papermill": {
     "duration": 0.017375,
     "end_time": "2025-08-26T22:38:11.349695",
     "exception": false,
     "start_time": "2025-08-26T22:38:11.332320",
     "status": "completed"
    },
    "tags": []
   },
   "outputs": [
    {
     "name": "stdout",
     "output_type": "stream",
     "text": [
      "Modèle A les plus fréquents\n",
      "model_a\n",
      "gpt-4-1106-preview            3678\n",
      "gpt-3.5-turbo-0613            3553\n",
      "gpt-4-0613                    3099\n",
      "claude-2.1                    2859\n",
      "gpt-4-0314                    2087\n",
      "claude-instant-1              2085\n",
      "claude-1                      1955\n",
      "vicuna-33b                    1843\n",
      "mixtral-8x7b-instruct-v0.1    1741\n",
      "mistral-medium                1706\n",
      "Name: count, dtype: int64\n",
      "\n",
      "Modèle B les plus fréquents \n",
      "model_b\n",
      "gpt-4-1106-preview            3709\n",
      "gpt-3.5-turbo-0613            3530\n",
      "gpt-4-0613                    3066\n",
      "claude-2.1                    2724\n",
      "claude-instant-1              2051\n",
      "gpt-4-0314                    2035\n",
      "claude-1                      2023\n",
      "vicuna-33b                    1877\n",
      "mixtral-8x7b-instruct-v0.1    1804\n",
      "llama-2-70b-chat              1753\n",
      "Name: count, dtype: int64\n"
     ]
    }
   ],
   "source": [
    "#Analyse des modèles\n",
    "\n",
    "print(\"Modèle A les plus fréquents\")\n",
    "print(train_df['model_a'].value_counts().head(10))\n",
    "print(\"\\nModèle B les plus fréquents \")\n",
    "print(train_df[\"model_b\"].value_counts().head(10))"
   ]
  },
  {
   "cell_type": "code",
   "execution_count": 10,
   "id": "0c97345a",
   "metadata": {
    "execution": {
     "iopub.execute_input": "2025-08-26T22:38:11.357601Z",
     "iopub.status.busy": "2025-08-26T22:38:11.357094Z",
     "iopub.status.idle": "2025-08-26T22:38:11.454114Z",
     "shell.execute_reply": "2025-08-26T22:38:11.453226Z"
    },
    "papermill": {
     "duration": 0.102301,
     "end_time": "2025-08-26T22:38:11.455311",
     "exception": false,
     "start_time": "2025-08-26T22:38:11.353010",
     "status": "completed"
    },
    "tags": []
   },
   "outputs": [
    {
     "name": "stdout",
     "output_type": "stream",
     "text": [
      "         len_prompt  len_response_a  len_response_b\n",
      "count  57477.000000    57477.000000    57477.000000\n",
      "mean     369.198584     1377.818919     1386.162169\n",
      "std     1073.341472     1513.932333     1537.800488\n",
      "min        7.000000        4.000000        4.000000\n",
      "25%       52.000000      408.000000      413.000000\n",
      "50%       96.000000     1076.000000     1086.000000\n",
      "75%      243.000000     1862.000000     1873.000000\n",
      "max    33056.000000    54058.000000    53830.000000\n"
     ]
    }
   ],
   "source": [
    "#Longueur de réponses\n",
    "\n",
    "train_df['len_prompt']=train_df['prompt'].str.len()\n",
    "train_df['len_response_a']=train_df['response_a'].str.len()\n",
    "train_df['len_response_b']=train_df['response_b'].str.len()\n",
    "\n",
    "print(train_df[['len_prompt','len_response_a','len_response_b']].describe())"
   ]
  },
  {
   "cell_type": "code",
   "execution_count": 11,
   "id": "6b16b815",
   "metadata": {
    "execution": {
     "iopub.execute_input": "2025-08-26T22:38:11.463232Z",
     "iopub.status.busy": "2025-08-26T22:38:11.462966Z",
     "iopub.status.idle": "2025-08-26T22:38:11.470091Z",
     "shell.execute_reply": "2025-08-26T22:38:11.469553Z"
    },
    "papermill": {
     "duration": 0.012101,
     "end_time": "2025-08-26T22:38:11.471102",
     "exception": false,
     "start_time": "2025-08-26T22:38:11.459001",
     "status": "completed"
    },
    "tags": []
   },
   "outputs": [
    {
     "name": "stdout",
     "output_type": "stream",
     "text": [
      "Vérification des winners par ligne:\n",
      "1    57477\n",
      "Name: count, dtype: int64\n"
     ]
    }
   ],
   "source": [
    "#Distribution des winners\n",
    "\n",
    "winners= pd.DataFrame({\n",
    "    'Model A': train_df['winner_model_a'].sum(),\n",
    "    'Model B': train_df['winner_model_b'].sum(),\n",
    "    'Tie': train_df['winner_tie'].sum()\n",
    "},index=[0])\n",
    "\n",
    "print(\"Vérification des winners par ligne:\")\n",
    "print((train_df['winner_model_a'] + train_df['winner_model_b'] + train_df['winner_tie']).value_counts())"
   ]
  },
  {
   "cell_type": "code",
   "execution_count": 12,
   "id": "0738b29a",
   "metadata": {
    "execution": {
     "iopub.execute_input": "2025-08-26T22:38:11.479540Z",
     "iopub.status.busy": "2025-08-26T22:38:11.479316Z",
     "iopub.status.idle": "2025-08-26T22:38:11.493665Z",
     "shell.execute_reply": "2025-08-26T22:38:11.492722Z"
    },
    "papermill": {
     "duration": 0.020206,
     "end_time": "2025-08-26T22:38:11.494884",
     "exception": false,
     "start_time": "2025-08-26T22:38:11.474678",
     "status": "completed"
    },
    "tags": []
   },
   "outputs": [
    {
     "name": "stdout",
     "output_type": "stream",
     "text": [
      "Longueur moyenne des réponses gagnantes:\n",
      "Model A : 1568\n",
      "Model B :  1569\n"
     ]
    }
   ],
   "source": [
    "#Corrélation longueur vs préférence\n",
    "\n",
    "avg_len_a_wins=train_df[train_df['winner_model_a']==1]['len_response_a'].mean()\n",
    "avg_len_b_wins=train_df[train_df['winner_model_b']==1]['len_response_b'].mean()\n",
    "\n",
    "print('Longueur moyenne des réponses gagnantes:')\n",
    "print(f\"Model A : {avg_len_a_wins:.0f}\")\n",
    "print(f\"Model B : {avg_len_b_wins: .0f}\")"
   ]
  },
  {
   "cell_type": "code",
   "execution_count": 13,
   "id": "1ebd4e88",
   "metadata": {
    "execution": {
     "iopub.execute_input": "2025-08-26T22:38:11.502198Z",
     "iopub.status.busy": "2025-08-26T22:38:11.501989Z",
     "iopub.status.idle": "2025-08-26T22:38:12.753624Z",
     "shell.execute_reply": "2025-08-26T22:38:12.752622Z"
    },
    "papermill": {
     "duration": 1.256757,
     "end_time": "2025-08-26T22:38:12.754941",
     "exception": false,
     "start_time": "2025-08-26T22:38:11.498184",
     "status": "completed"
    },
    "tags": []
   },
   "outputs": [
    {
     "name": "stdout",
     "output_type": "stream",
     "text": [
      "[('gpt-4-1106-preview', 0.5513740354677136), ('gpt-3.5-turbo-0314', 0.5460829493087558), ('gpt-4-0125-preview', 0.5137931034482759), ('gpt-4-0314', 0.4835031538088307), ('claude-1', 0.43916540975364504), ('gpt-4-0613', 0.39740470397404704), ('claude-instant-1', 0.3970019342359768), ('qwen1.5-72b-chat', 0.39019963702359345), ('claude-2.0', 0.38925081433224756), ('llama-2-70b-chat', 0.3725204200700117)]\n"
     ]
    }
   ],
   "source": [
    "#Performance par modèle \n",
    "model_performance={}\n",
    "for model in train_df['model_a'].unique():\n",
    "    wins_as_a=train_df[(train_df['model_a']==model) & (train_df['winner_model_a']==1)].shape[0]\n",
    "    wins_as_b=train_df[(train_df['model_b']==model) & (train_df['winner_model_b']==1)].shape[0]\n",
    "    total_as_a=train_df[train_df['model_a']==model].shape[0]\n",
    "    total_as_b=train_df[train_df['model_b']==model].shape[0]\n",
    "    win_rate=(wins_as_a + wins_as_b)/(total_as_a + total_as_b)\n",
    "    model_performance[model]=win_rate\n",
    "top_models= sorted(model_performance.items(), key= lambda x:x[1], reverse=True)[:10]\n",
    "print(top_models)"
   ]
  }
 ],
 "metadata": {
  "kaggle": {
   "accelerator": "nvidiaTeslaT4",
   "dataSources": [
    {
     "databundleVersionId": 9809560,
     "sourceId": 86518,
     "sourceType": "competition"
    }
   ],
   "dockerImageVersionId": 31090,
   "isGpuEnabled": true,
   "isInternetEnabled": true,
   "language": "python",
   "sourceType": "notebook"
  },
  "kernelspec": {
   "display_name": "Python 3",
   "language": "python",
   "name": "python3"
  },
  "language_info": {
   "codemirror_mode": {
    "name": "ipython",
    "version": 3
   },
   "file_extension": ".py",
   "mimetype": "text/x-python",
   "name": "python",
   "nbconvert_exporter": "python",
   "pygments_lexer": "ipython3",
   "version": "3.11.13"
  },
  "papermill": {
   "default_parameters": {},
   "duration": 13.709001,
   "end_time": "2025-08-26T22:38:13.276891",
   "environment_variables": {},
   "exception": null,
   "input_path": "__notebook__.ipynb",
   "output_path": "__notebook__.ipynb",
   "parameters": {},
   "start_time": "2025-08-26T22:37:59.567890",
   "version": "2.6.0"
  }
 },
 "nbformat": 4,
 "nbformat_minor": 5
}
